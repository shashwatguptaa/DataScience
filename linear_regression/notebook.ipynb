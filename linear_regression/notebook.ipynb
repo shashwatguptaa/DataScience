{
 "cells": [
  {
   "cell_type": "code",
   "execution_count": 91,
   "id": "b370ea4d",
   "metadata": {},
   "outputs": [],
   "source": [
    "import numpy as np\n",
    "import pandas as pd"
   ]
  },
  {
   "cell_type": "code",
   "execution_count": 92,
   "id": "b574b761",
   "metadata": {},
   "outputs": [
    {
     "data": {
      "text/html": [
       "<div>\n",
       "<style scoped>\n",
       "    .dataframe tbody tr th:only-of-type {\n",
       "        vertical-align: middle;\n",
       "    }\n",
       "\n",
       "    .dataframe tbody tr th {\n",
       "        vertical-align: top;\n",
       "    }\n",
       "\n",
       "    .dataframe thead th {\n",
       "        text-align: right;\n",
       "    }\n",
       "</style>\n",
       "<table border=\"1\" class=\"dataframe\">\n",
       "  <thead>\n",
       "    <tr style=\"text-align: right;\">\n",
       "      <th></th>\n",
       "      <th>cgpa</th>\n",
       "      <th>package</th>\n",
       "    </tr>\n",
       "  </thead>\n",
       "  <tbody>\n",
       "    <tr>\n",
       "      <th>0</th>\n",
       "      <td>6.89</td>\n",
       "      <td>3.26</td>\n",
       "    </tr>\n",
       "    <tr>\n",
       "      <th>1</th>\n",
       "      <td>5.12</td>\n",
       "      <td>1.98</td>\n",
       "    </tr>\n",
       "    <tr>\n",
       "      <th>2</th>\n",
       "      <td>7.82</td>\n",
       "      <td>3.25</td>\n",
       "    </tr>\n",
       "    <tr>\n",
       "      <th>3</th>\n",
       "      <td>7.42</td>\n",
       "      <td>3.67</td>\n",
       "    </tr>\n",
       "    <tr>\n",
       "      <th>4</th>\n",
       "      <td>6.94</td>\n",
       "      <td>3.57</td>\n",
       "    </tr>\n",
       "  </tbody>\n",
       "</table>\n",
       "</div>"
      ],
      "text/plain": [
       "   cgpa  package\n",
       "0  6.89     3.26\n",
       "1  5.12     1.98\n",
       "2  7.82     3.25\n",
       "3  7.42     3.67\n",
       "4  6.94     3.57"
      ]
     },
     "execution_count": 92,
     "metadata": {},
     "output_type": "execute_result"
    }
   ],
   "source": [
    "df=pd.read_csv('placement (1).csv')\n",
    "df.head()"
   ]
  },
  {
   "cell_type": "code",
   "execution_count": 93,
   "id": "d19ece77",
   "metadata": {},
   "outputs": [],
   "source": [
    "x=df.iloc[:,0:1]"
   ]
  },
  {
   "cell_type": "code",
   "execution_count": 94,
   "id": "67b2c30d",
   "metadata": {},
   "outputs": [
    {
     "data": {
      "text/html": [
       "<div>\n",
       "<style scoped>\n",
       "    .dataframe tbody tr th:only-of-type {\n",
       "        vertical-align: middle;\n",
       "    }\n",
       "\n",
       "    .dataframe tbody tr th {\n",
       "        vertical-align: top;\n",
       "    }\n",
       "\n",
       "    .dataframe thead th {\n",
       "        text-align: right;\n",
       "    }\n",
       "</style>\n",
       "<table border=\"1\" class=\"dataframe\">\n",
       "  <thead>\n",
       "    <tr style=\"text-align: right;\">\n",
       "      <th></th>\n",
       "      <th>cgpa</th>\n",
       "    </tr>\n",
       "  </thead>\n",
       "  <tbody>\n",
       "    <tr>\n",
       "      <th>0</th>\n",
       "      <td>6.89</td>\n",
       "    </tr>\n",
       "    <tr>\n",
       "      <th>1</th>\n",
       "      <td>5.12</td>\n",
       "    </tr>\n",
       "    <tr>\n",
       "      <th>2</th>\n",
       "      <td>7.82</td>\n",
       "    </tr>\n",
       "    <tr>\n",
       "      <th>3</th>\n",
       "      <td>7.42</td>\n",
       "    </tr>\n",
       "    <tr>\n",
       "      <th>4</th>\n",
       "      <td>6.94</td>\n",
       "    </tr>\n",
       "  </tbody>\n",
       "</table>\n",
       "</div>"
      ],
      "text/plain": [
       "   cgpa\n",
       "0  6.89\n",
       "1  5.12\n",
       "2  7.82\n",
       "3  7.42\n",
       "4  6.94"
      ]
     },
     "execution_count": 94,
     "metadata": {},
     "output_type": "execute_result"
    }
   ],
   "source": [
    "x.head()"
   ]
  },
  {
   "cell_type": "code",
   "execution_count": 95,
   "id": "017eb97e",
   "metadata": {},
   "outputs": [],
   "source": [
    "y=df.iloc[:,-1]"
   ]
  },
  {
   "cell_type": "code",
   "execution_count": 96,
   "id": "568b42e7",
   "metadata": {},
   "outputs": [
    {
     "data": {
      "text/plain": [
       "0    3.26\n",
       "1    1.98\n",
       "2    3.25\n",
       "3    3.67\n",
       "4    3.57\n",
       "Name: package, dtype: float64"
      ]
     },
     "execution_count": 96,
     "metadata": {},
     "output_type": "execute_result"
    }
   ],
   "source": [
    "y.head()"
   ]
  },
  {
   "cell_type": "code",
   "execution_count": 97,
   "id": "71e1b463",
   "metadata": {},
   "outputs": [],
   "source": [
    "class linear_regression:\n",
    "    def __init__(self):\n",
    "        self.m=None\n",
    "        self.b=None\n",
    "    \n",
    "    def fit(self,x,y):\n",
    "        num=0\n",
    "        den=0\n",
    "        for i in range(len(x)):\n",
    "            num+=((y.iloc[i]-y.mean())*(x.iloc[i]-x.mean()))\n",
    "            den+=((x.iloc[i]-x.mean())*(x.iloc[i]-x.mean()))\n",
    "        \n",
    "        self.m=num/den\n",
    "        self.b=y.mean()-(self.m*x.mean())\n",
    "        print(self.m.values[0])\n",
    "        print(self.b.values[0])\n",
    "    \n",
    "    def predict(self,x):\n",
    "        return ((self.m*x)+self.b).values[0]"
   ]
  },
  {
   "cell_type": "code",
   "execution_count": 208,
   "id": "2fd390e7",
   "metadata": {},
   "outputs": [],
   "source": [
    "from sklearn.model_selection import train_test_split\n",
    "x_train,x_test,y_train,y_test=train_test_split(x,y,test_size=0.2,random_state=42)"
   ]
  },
  {
   "cell_type": "code",
   "execution_count": 142,
   "id": "5f12938d",
   "metadata": {},
   "outputs": [
    {
     "data": {
      "text/html": [
       "<div>\n",
       "<style scoped>\n",
       "    .dataframe tbody tr th:only-of-type {\n",
       "        vertical-align: middle;\n",
       "    }\n",
       "\n",
       "    .dataframe tbody tr th {\n",
       "        vertical-align: top;\n",
       "    }\n",
       "\n",
       "    .dataframe thead th {\n",
       "        text-align: right;\n",
       "    }\n",
       "</style>\n",
       "<table border=\"1\" class=\"dataframe\">\n",
       "  <thead>\n",
       "    <tr style=\"text-align: right;\">\n",
       "      <th></th>\n",
       "      <th>cgpa</th>\n",
       "    </tr>\n",
       "  </thead>\n",
       "  <tbody>\n",
       "    <tr>\n",
       "      <th>95</th>\n",
       "      <td>6.63</td>\n",
       "    </tr>\n",
       "    <tr>\n",
       "      <th>15</th>\n",
       "      <td>7.25</td>\n",
       "    </tr>\n",
       "    <tr>\n",
       "      <th>30</th>\n",
       "      <td>7.36</td>\n",
       "    </tr>\n",
       "    <tr>\n",
       "      <th>158</th>\n",
       "      <td>5.95</td>\n",
       "    </tr>\n",
       "    <tr>\n",
       "      <th>128</th>\n",
       "      <td>7.93</td>\n",
       "    </tr>\n",
       "  </tbody>\n",
       "</table>\n",
       "</div>"
      ],
      "text/plain": [
       "     cgpa\n",
       "95   6.63\n",
       "15   7.25\n",
       "30   7.36\n",
       "158  5.95\n",
       "128  7.93"
      ]
     },
     "execution_count": 142,
     "metadata": {},
     "output_type": "execute_result"
    }
   ],
   "source": [
    "x_test.head()"
   ]
  },
  {
   "cell_type": "code",
   "execution_count": 143,
   "id": "3883698e",
   "metadata": {},
   "outputs": [
    {
     "data": {
      "text/plain": [
       "95     2.79\n",
       "15     3.23\n",
       "30     3.26\n",
       "158    3.04\n",
       "128    3.34\n",
       "Name: package, dtype: float64"
      ]
     },
     "execution_count": 143,
     "metadata": {},
     "output_type": "execute_result"
    }
   ],
   "source": [
    "y_test.head()"
   ]
  },
  {
   "cell_type": "code",
   "execution_count": null,
   "id": "6512a32a",
   "metadata": {},
   "outputs": [],
   "source": [
    "lr = linear_regression()"
   ]
  },
  {
   "cell_type": "code",
   "execution_count": null,
   "id": "42119028",
   "metadata": {},
   "outputs": [
    {
     "name": "stdout",
     "output_type": "stream",
     "text": [
      "0.5742564727019197\n",
      "-1.0270069374542108\n"
     ]
    }
   ],
   "source": [
    "lr.fit(x_train,y_train)"
   ]
  },
  {
   "cell_type": "code",
   "execution_count": 103,
   "id": "11341083",
   "metadata": {},
   "outputs": [
    {
     "data": {
      "text/plain": [
       "np.float64(2.7803134765595168)"
      ]
     },
     "execution_count": 103,
     "metadata": {},
     "output_type": "execute_result"
    }
   ],
   "source": [
    "lr.predict(x_test.iloc[0]['cgpa'])"
   ]
  },
  {
   "cell_type": "code",
   "execution_count": null,
   "id": "845f5088",
   "metadata": {},
   "outputs": [
    {
     "name": "stdout",
     "output_type": "stream",
     "text": [
      "RMSE: 0.1916670169028878\n"
     ]
    }
   ],
   "source": [
    "for i in range(len(y_test)):\n",
    "    residuals = lr.predict(x_test.iloc[i]['cgpa']) - y_test.iloc[i]\n",
    "    squared_residuals = residuals**2\n",
    "\n",
    "mse = np.mean(squared_residuals)\n",
    "\n",
    "rmse = np.sqrt(mse)\n",
    "\n",
    "print(f\"RMSE: {rmse}\")"
   ]
  },
  {
   "cell_type": "code",
   "execution_count": 302,
   "id": "c2b197c8",
   "metadata": {},
   "outputs": [],
   "source": [
    "import numpy as np\n",
    "\n",
    "class lr_using_gd:\n",
    "    def __init__(self, learning_rate=0.001, epoch=100):\n",
    "        self.m = 0\n",
    "        self.b = 0\n",
    "        self.learning_rate = learning_rate\n",
    "        self.epoch = epoch\n",
    "        self.history_m = []\n",
    "        self.history = []\n",
    "\n",
    "    def fit(self, x, y):\n",
    "        x = np.array(x)\n",
    "        y = np.array(y)\n",
    "        n = len(x)\n",
    "\n",
    "        for i in range(self.epoch):\n",
    "            y_predict = self.m * x + self.b\n",
    "            y_predict = y_predict.squeeze()\n",
    "            self.history_m.append(self.m)\n",
    "            error =y - y_predict\n",
    "            loss = np.average(error**2)\n",
    "            self.history.append(loss)\n",
    "            print(f\"Epochs: {i}- training loss is: {loss}\")\n",
    "            x = x.squeeze()\n",
    "            dm = -2 / n * np.sum(x * error)\n",
    "            db = -2 / n * np.sum(error)\n",
    "\n",
    "            self.m -= self.learning_rate * dm\n",
    "            self.b -= self.learning_rate * db\n",
    "\n",
    "        print(f\"m is {self.m}\")\n",
    "        print(f\"b is {self.b}\")\n",
    "        import matplotlib.pyplot as plt\n",
    "        plt.plot(self.history)\n",
    "        plt.xlabel(\"Epochs\")\n",
    "        plt.ylabel(\"Loss\")\n",
    "\n",
    "    def predict(self, x):\n",
    "        return self.m * x + self.b\n"
   ]
  },
  {
   "cell_type": "code",
   "execution_count": 303,
   "id": "3175e4f9",
   "metadata": {},
   "outputs": [],
   "source": [
    "lr_gd=lr_using_gd()"
   ]
  },
  {
   "cell_type": "code",
   "execution_count": 304,
   "id": "ca20b7e8",
   "metadata": {},
   "outputs": [
    {
     "name": "stdout",
     "output_type": "stream",
     "text": [
      "Epochs: 0- training loss is: 9.47749625\n",
      "Epochs: 1- training loss is: 7.662012823777916\n",
      "Epochs: 2- training loss is: 6.1995233968909575\n",
      "Epochs: 3- training loss is: 5.02139339127052\n",
      "Epochs: 4- training loss is: 4.072333229949081\n",
      "Epochs: 5- training loss is: 3.3078035945936506\n",
      "Epochs: 6- training loss is: 2.691925193186264\n",
      "Epochs: 7- training loss is: 2.195794943149729\n",
      "Epochs: 8- training loss is: 1.7961295483129305\n",
      "Epochs: 9- training loss is: 1.474172812718433\n",
      "Epochs: 10- training loss is: 1.2148154114575827\n",
      "Epochs: 11- training loss is: 1.0058858093367102\n",
      "Epochs: 12- training loss is: 0.8375790501538443\n",
      "Epochs: 13- training loss is: 0.7019966096396193\n",
      "Epochs: 14- training loss is: 0.5927757173391104\n",
      "Epochs: 15- training loss is: 0.5047907514929335\n",
      "Epochs: 16- training loss is: 0.43391269336524385\n",
      "Epochs: 17- training loss is: 0.37681535219883894\n",
      "Epochs: 18- training loss is: 0.33081926692534414\n",
      "Epochs: 19- training loss is: 0.2937659589303254\n",
      "Epochs: 20- training loss is: 0.2639166345496563\n",
      "Epochs: 21- training loss is: 0.23987058340047912\n",
      "Epochs: 22- training loss is: 0.22049944297657934\n",
      "Epochs: 23- training loss is: 0.20489424454251082\n",
      "Epochs: 24- training loss is: 0.1923227551877773\n",
      "Epochs: 25- training loss is: 0.18219511410165473\n",
      "Epochs: 26- training loss is: 0.17403615037739684\n",
      "Epochs: 27- training loss is: 0.16746308321907194\n",
      "Epochs: 28- training loss is: 0.1621675580206752\n",
      "Epochs: 29- training loss is: 0.15790117526986114\n",
      "Epochs: 30- training loss is: 0.15446383314706164\n",
      "Epochs: 31- training loss is: 0.1516943367376146\n",
      "Epochs: 32- training loss is: 0.1494628331467828\n",
      "Epochs: 33- training loss is: 0.14766471749725302\n",
      "Epochs: 34- training loss is: 0.14621572381728848\n",
      "Epochs: 35- training loss is: 0.14504797043468468\n",
      "Epochs: 36- training loss is: 0.14410677428667704\n",
      "Epochs: 37- training loss is: 0.14334808464121615\n",
      "Epochs: 38- training loss is: 0.14273641579402666\n",
      "Epochs: 39- training loss is: 0.14224318172282513\n",
      "Epochs: 40- training loss is: 0.1418453545439416\n",
      "Epochs: 41- training loss is: 0.14152438381264815\n",
      "Epochs: 42- training loss is: 0.1412653259499108\n",
      "Epochs: 43- training loss is: 0.14105614293951785\n",
      "Epochs: 44- training loss is: 0.14088713738341013\n",
      "Epochs: 45- training loss is: 0.1407504974023314\n",
      "Epochs: 46- training loss is: 0.140639930023966\n",
      "Epochs: 47- training loss is: 0.14055036585345088\n",
      "Epochs: 48- training loss is: 0.14047772116643542\n",
      "Epochs: 49- training loss is: 0.1404187062597054\n",
      "Epochs: 50- training loss is: 0.140370671065256\n",
      "Epochs: 51- training loss is: 0.14033148078247618\n",
      "Epochs: 52- training loss is: 0.1402994156918555\n",
      "Epochs: 53- training loss is: 0.14027309044846753\n",
      "Epochs: 54- training loss is: 0.14025138906766715\n",
      "Epochs: 55- training loss is: 0.14023341255187996\n",
      "Epochs: 56- training loss is: 0.14021843670060416\n",
      "Epochs: 57- training loss is: 0.14020587812364788\n",
      "Epochs: 58- training loss is: 0.14019526686260061\n",
      "Epochs: 59- training loss is: 0.14018622433566413\n",
      "Epochs: 60- training loss is: 0.14017844557079145\n",
      "Epochs: 61- training loss is: 0.1401716848933354\n",
      "Epochs: 62- training loss is: 0.1401657443965267\n",
      "Epochs: 63- training loss is: 0.14016046465370108\n",
      "Epochs: 64- training loss is: 0.1401557172363992\n",
      "Epochs: 65- training loss is: 0.1401513986872141\n",
      "Epochs: 66- training loss is: 0.14014742566453114\n",
      "Epochs: 67- training loss is: 0.14014373103130331\n",
      "Epochs: 68- training loss is: 0.14014026070430702\n",
      "Epochs: 69- training loss is: 0.14013697111601528\n",
      "Epochs: 70- training loss is: 0.1401338271699724\n",
      "Epochs: 71- training loss is: 0.1401308005937167\n",
      "Epochs: 72- training loss is: 0.14012786861195364\n",
      "Epochs: 73- training loss is: 0.14012501287771106\n",
      "Epochs: 74- training loss is: 0.14012221861131602\n",
      "Epochs: 75- training loss is: 0.1401194739067851\n",
      "Epochs: 76- training loss is: 0.14011676917307686\n",
      "Epochs: 77- training loss is: 0.14011409668398506\n",
      "Epochs: 78- training loss is: 0.1401114502155482\n",
      "Epochs: 79- training loss is: 0.14010882475396005\n",
      "Epochs: 80- training loss is: 0.14010621626027212\n",
      "Epochs: 81- training loss is: 0.14010362148084693\n",
      "Epochs: 82- training loss is: 0.1401010377946656\n",
      "Epochs: 83- training loss is: 0.14009846309032412\n",
      "Epochs: 84- training loss is: 0.1400958956669464\n",
      "Epochs: 85- training loss is: 0.1400933341543629\n",
      "Epochs: 86- training loss is: 0.14009077744880938\n",
      "Epochs: 87- training loss is: 0.1400882246611286\n",
      "Epochs: 88- training loss is: 0.14008567507504271\n",
      "Epochs: 89- training loss is: 0.1400831281135397\n",
      "Epochs: 90- training loss is: 0.14008058331179485\n",
      "Epochs: 91- training loss is: 0.14007804029535778\n",
      "Epochs: 92- training loss is: 0.14007549876258035\n",
      "Epochs: 93- training loss is: 0.14007295847046136\n",
      "Epochs: 94- training loss is: 0.14007041922324343\n",
      "Epochs: 95- training loss is: 0.14006788086322727\n",
      "Epochs: 96- training loss is: 0.14006534326337167\n",
      "Epochs: 97- training loss is: 0.1400628063213325\n",
      "Epochs: 98- training loss is: 0.14006026995466095\n",
      "Epochs: 99- training loss is: 0.1400577340969348\n",
      "m is 0.4235003931200354\n",
      "b is 0.05396467052825856\n"
     ]
    },
    {
     "data": {
      "image/png": "[encoded data removed]",
      "text/plain": [
       "<Figure size 640x480 with 1 Axes>"
      ]
     },
     "metadata": {},
     "output_type": "display_data"
    }
   ],
   "source": [
    "lr_gd.fit(x_train,y_train)"
   ]
  },
  {
   "cell_type": "code",
   "execution_count": 305,
   "id": "7612151e",
   "metadata": {},
   "outputs": [
    {
     "data": {
      "text/plain": [
       "np.float64(2.861772276914093)"
      ]
     },
     "execution_count": 305,
     "metadata": {},
     "output_type": "execute_result"
    }
   ],
   "source": [
    "lr_gd.predict(x_test.iloc[0]['cgpa'])"
   ]
  },
  {
   "cell_type": "code",
   "execution_count": null,
   "id": "edff2d08",
   "metadata": {},
   "outputs": [
    {
     "name": "stdout",
     "output_type": "stream",
     "text": [
      "RMSE: 0.15694260121869563\n"
     ]
    }
   ],
   "source": [
    "for i in range(len(y_test)):\n",
    "    residuals = lr_gd.predict(x_test.iloc[i]['cgpa']) - y_test.iloc[i]\n",
    "    squared_residuals = residuals**2\n",
    "\n",
    "mse = np.mean(squared_residuals)\n",
    "\n",
    "rmse = np.sqrt(mse)\n",
    "\n",
    "print(f\"RMSE: {rmse}\")"
   ]
  },
  {
   "cell_type": "code",
   "execution_count": null,
   "id": "f8cc2037",
   "metadata": {},
   "outputs": [],
   "source": []
  }
 ],
 "metadata": {
  "kernelspec": {
   "display_name": "linear_regression_env",
   "language": "python",
   "name": "python3"
  },
  "language_info": {
   "codemirror_mode": {
    "name": "ipython",
    "version": 3
   },
   "file_extension": ".py",
   "mimetype": "text/x-python",
   "name": "python",
   "nbconvert_exporter": "python",
   "pygments_lexer": "ipython3",
   "version": "3.12.6"
  }
 },
 "nbformat": 4,
 "nbformat_minor": 5
}
